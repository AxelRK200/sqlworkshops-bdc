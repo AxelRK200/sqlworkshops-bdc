{
    "metadata": {
        "kernelspec": {
            "name": "powershell",
            "display_name": "PowerShell"
        },
        "language_info": {
            "name": "python",
            "version": ""
        }
    },
    "nbformat_minor": 2,
    "nbformat": 4,
    "cells": [
        {
            "cell_type": "markdown",
            "source": [
                "<img src=\"https://github.com/Microsoft/sqlworkshops/blob/master/graphics/solutions-microsoft-logo-small.png?raw=true\" alt=\"Microsoft\">\r\n",
                "<br>\r\n",
                "\r\n",
                "> NOTE: In-work. **Not ready for use**. Last Updated: 08/17/2020\r\n",
                "\r\n",
                "# SQL Server 2019 Big Data Cluster\r\n",
                "## Administrator's Guide\r\n",
                "\r\n",
                "In this <TODO:>"
            ],
            "metadata": {
                "azdata_cell_guid": "969bbd54-5f8e-49eb-b466-5e05633fa7be"
            }
        },
        {
            "cell_type": "markdown",
            "source": [
                "# 00 - Environment Setup\r\n",
                "\r\n",
                "> NOTE: This Jupyter Notebook uses a PowerShell Kernel, which you must install if you are not using the Microsoft Windows Operating System. [More on that process is here](https://docs.microsoft.com/en-us/powershell/scripting/install/installing-powershell-core-on-linux?view=powershell-7). \r\n",
                "\r\n",
                "- Ensure the **Kernel** setting at the top of this Notebook is set to *PowerShell*.\r\n",
                "- You will need to the set the Execution Policy for PowerShell to allow scripts to run. [More on that process is here.](https://docs.microsoft.com/en-us/powershell/module/microsoft.powershell.core/about/about_execution_policies?view=powershell-7)\r\n",
                "- Ensure you have all of the Big Data Cluster administration tools installed prior to starting. [You can read more about that here](https://docs.microsoft.com/en-us/sql/big-data-cluster/deploy-big-data-tools?view=sql-server-ver15).\r\n",
                ""
            ],
            "metadata": {
                "azdata_cell_guid": "31d34437-b08e-44a7-82f9-1be4e7170025"
            }
        },
        {
            "cell_type": "markdown",
            "source": [
                "# 01 - General Checks\r\n",
                "## SQL Server Big Data Cluster Holistic Checks\r\n",
                "There are four primary interfaces to checking the entire Big Data Cluster environment: \r\n",
                "\r\n",
                "- The *azdata* utility (must be set in your **PATH** variable)\r\n",
                "- The *Azure Data Studio* tool\r\n",
                "- The *Grafana* moniting tool\r\n",
                "- The *Kibana* log tracking tool\r\n",
                "\r\n",
                "This notebook focuses on the *azdata* tool, along with other command-line tools to monitor individual components. \r\n",
                "\r\n",
                "> NOTE: Many of these commands are dependent on the specific environment you have implemented in production. The following examples are for illustration purposes only. \r\n",
                "\r\n",
                "[More information for each of these commands can be located here](https://docs.microsoft.com/en-us/sql/big-data-cluster/view-cluster-status?view=sql-server-ver15).\r\n",
                "\r\n",
                "\r\n",
                "\r\n",
                "\r\n",
                ""
            ],
            "metadata": {
                "azdata_cell_guid": "af10557a-dce4-42b4-8ba7-af1faaad461c"
            }
        },
        {
            "cell_type": "code",
            "source": [
                "# Holistic BDC Cluster Check - requires administration tools to be installed\r\n",
                "\r\n",
                "## Connect to Big Data Cluster to set context\r\n",
                "azdata login --endpoint https://<ip-address-of-controller-svc-external>:30080 --username <user-name>\r\n",
                "### Example: azdata login --endpoint https://192.168.1.7:30080 --username admin\r\n",
                "### AD: azdata login --endpoint https://<control_domain_name>:30080 --auth ad\r\n",
                "\r\n",
                "## List Endpoints\r\n",
                "azdata bdc endpoint list -o table \r\n",
                "\r\n",
                "## Show status of each group\r\n",
                "azdata bdc status show \r\n",
                "\r\n",
                "## Individual groups\r\n",
                "azdata bdc sql status show --all\r\n",
                "azdata bdc hdfs status show --all\r\n",
                "azdata bdc spark status show --all\r\n",
                "\r\n",
                "## Storage information\r\n",
                "azdata bdc status show --all --resource storage-0\r\n",
                "\r\n",
                "## Control information\r\n",
                "azdata bdc control status show --all \r\n",
                "\r\n",
                "## Logs\r\n",
                "azdata bdc debug copy-logs -n <namespace> -d <folder_to_copy_logs>\r\n",
                "### Example: azdata bdc debug copy-logs -n mssql-cluster -d c:\\temp\r\n",
                ""
            ],
            "metadata": {
                "azdata_cell_guid": "974fa9e0-1a73-4d21-a73c-7f1eee07ce82"
            },
            "outputs": [],
            "execution_count": null
        },
        {
            "cell_type": "markdown",
            "source": [
                "## 1.1 Hardware\r\n",
                "\r\n",
                "### Physical\r\n",
                "\r\n",
                "### Security\r\n",
                "\r\n",
                "### Software\r\n",
                ""
            ],
            "metadata": {
                "azdata_cell_guid": "9f1feeef-acff-4dee-8c51-c941286a4025"
            }
        },
        {
            "cell_type": "markdown",
            "source": [
                "## 1.2 Operating System\r\n",
                "\r\n",
                "### Backups\r\n",
                "\r\n",
                "### Logs\r\n",
                "\r\n",
                "### Patches\r\n",
                "\r\n",
                "### Security"
            ],
            "metadata": {
                "azdata_cell_guid": "8704d143-693b-4642-948d-1b138c4260f3"
            }
        },
        {
            "cell_type": "code",
            "source": [
                "# General Linux commands for the environment - should be run on each Node in the Cluster\r\n",
                ""
            ],
            "metadata": {
                "azdata_cell_guid": "ffaa44b3-67bf-4825-bee2-43e381afd1ae"
            },
            "outputs": [],
            "execution_count": null
        },
        {
            "cell_type": "markdown",
            "source": [
                "## 1.3 Kubernetes\r\n",
                "\r\n",
                "### Client Versions and Cluster Status\r\n",
                "\r\n",
                "### Logs\r\n",
                "\r\n",
                "### Patches\r\n",
                "\r\n",
                "### Security\r\n",
                "\r\n",
                "### Space \r\n",
                ""
            ],
            "metadata": {
                "azdata_cell_guid": "ca9a3e55-34dd-4412-b262-221aed63df09"
            }
        },
        {
            "cell_type": "code",
            "source": [
                "# Check local version\r\n",
                "kubectl version -o json"
            ],
            "metadata": {
                "azdata_cell_guid": "40642d48-050a-482f-bf0f-261eee6fd366",
                "tags": []
            },
            "outputs": [],
            "execution_count": null
        },
        {
            "cell_type": "markdown",
            "source": [
                "# 02 - SQL Server"
            ],
            "metadata": {
                "azdata_cell_guid": "0d49c493-78d7-4bec-8a95-3c7d287737d9"
            }
        },
        {
            "cell_type": "markdown",
            "source": [
                "## 2.1 Platform\r\n",
                "\r\n",
                "### Logs\r\n",
                "\r\n",
                "### Patches\r\n",
                "\r\n",
                "### Security"
            ],
            "metadata": {
                "azdata_cell_guid": "bb036075-4b2c-47c2-93c6-b1b0230ae079"
            }
        },
        {
            "cell_type": "code",
            "source": [
                "<# Code for Setup #>"
            ],
            "metadata": {
                "azdata_cell_guid": "eccab508-dc09-4834-be77-947b5bc538b9"
            },
            "outputs": [],
            "execution_count": null
        },
        {
            "cell_type": "markdown",
            "source": [
                "## 2.2 Databases\r\n",
                " \r\n",
                "### Backups\r\n",
                "\r\n",
                "### Logs\r\n",
                "\r\n",
                "### Security"
            ],
            "metadata": {
                "azdata_cell_guid": "fde21703-c7e0-49fb-bb81-25c299bddbec"
            }
        },
        {
            "cell_type": "code",
            "source": [
                "<# Code for Setup #>"
            ],
            "metadata": {
                "azdata_cell_guid": "9d9c3fd0-bac4-44d6-803e-df10c983c6ca"
            },
            "outputs": [],
            "execution_count": null
        },
        {
            "cell_type": "markdown",
            "source": [
                "# 03 - HDFS"
            ],
            "metadata": {
                "azdata_cell_guid": "1c33e80d-c2f8-4f55-9eb6-a4a5d225255d"
            }
        },
        {
            "cell_type": "code",
            "source": [
                "# "
            ],
            "metadata": {
                "azdata_cell_guid": "1778f9e8-b7a0-43e8-a521-34eecca12021"
            },
            "outputs": [],
            "execution_count": null
        },
        {
            "cell_type": "markdown",
            "source": [
                "# 04 - Spark"
            ],
            "metadata": {
                "azdata_cell_guid": "dbdc3111-f1b1-4012-812a-86c4dbf239c2"
            }
        },
        {
            "cell_type": "code",
            "source": [
                "<# Code for Setup #>"
            ],
            "metadata": {
                "azdata_cell_guid": "d3db90c7-5b29-45f5-935e-31492fbd3a09"
            },
            "outputs": [],
            "execution_count": null
        },
        {
            "cell_type": "markdown",
            "source": [
                "## Next Steps: Continue on to other workloads in SQL Server 2019\r\n",
                "\r\n",
                "Now you're ready to work with SQL Server 2019's other features - [you can learn more about those here](https://docs.microsoft.com/en-us/sql/big-data-cluster/big-data-cluster-overview?view=sqlallproducts-allversions)."
            ],
            "metadata": {
                "azdata_cell_guid": "c7122be0-61a8-4b8d-a023-14212908269d"
            }
        }
    ]
}